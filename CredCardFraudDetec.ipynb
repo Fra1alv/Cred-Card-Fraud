{
 "cells": [
  {
   "cell_type": "markdown",
   "id": "3a1290d9",
   "metadata": {},
   "source": [
    "#### Credit Card Fraud Detection\n",
    "Cred card fraud can result in a significant financial loss, Fraud detection systems use various algorithms and techniques to detect fraudulent transactions and prevent them from being processed, protecting consumers and financial institutions from financial losses.\n",
    "\n",
    "In this project, we address the problem of detecting credit card fraud using libraries such as NumPy, Scikit-learn, and a few other Python tools.\n",
    "We create a binary classifier and evaluate it with various machine learning models to identify which one provides better predictions."
   ]
  },
  {
   "cell_type": "markdown",
   "id": "75b05c03",
   "metadata": {},
   "source": [
    "#### The dataset\n",
    "The dataset contains transactions made by credit cards in September 2013 by European card holders.\n",
    "The dataset contains transactions that occurred over a two-day period, where we have 492 frauds out of 284,807 transactions. The dataset is highly unbalanced, the positive class(frauds) represent 0.172% of all transactions.\n",
    "\n",
    "FeaturesV1, V2,..., V28 are the principal components obtained with PCA transformation (Principal Components Analysis transformation), the only features that have not been transformed with PCA are 'Time'and 'Amount'. Feature 'Time' contains the seconds elapsed between each transaction and the first transection in the dataset. Feature 'Amount' represents the transaction value and can be used for example-dependent cost-sensitive learning. Feature 'Class' is the response variable and it takes value 1 in case of fraud anf 0 otherwise.\n",
    "\n",
    "The dataset can be downloaded from [[https://www.kaggle.com/datasets/mlg-ulb/creditcardfraud?resource=download]]"
   ]
  },
  {
   "cell_type": "markdown",
   "id": "9ee5ca54",
   "metadata": {},
   "source": [
    "#### First, we import the necessary modules"
   ]
  },
  {
   "cell_type": "code",
   "execution_count": 132,
   "id": "ad6bda04",
   "metadata": {},
   "outputs": [],
   "source": [
    "import numpy as np\n",
    "import matplotlib.pyplot as plt\n",
    "import pandas as pd\n",
    "import time as time\n",
    "\n",
    "from imblearn.over_sampling import SMOTE\n",
    "from sklearn.preprocessing import StandardScaler\n",
    "from sklearn.model_selection import train_test_split\n",
    "from sklearn.linear_model import LogisticRegression\n",
    "from sklearn.svm import LinearSVC\n",
    "from sklearn.ensemble import RandomForestClassifier\n",
    "from sklearn.metrics import (accuracy_score, confusion_matrix, \n",
    "classification_report, precision_score, recall_score, f1_score)"
   ]
  },
  {
   "cell_type": "markdown",
   "id": "eec41ea9",
   "metadata": {},
   "source": [
    "#### Next, we will describe the steps used to build the classifier."
   ]
  },
  {
   "cell_type": "markdown",
   "id": "e0b1f00f",
   "metadata": {},
   "source": [
    "#### Step 1. Perform Exploratoty Data Analyses (EDA)\n",
    "As mensioned before there are 284,807 transactions, and only 492 transactions being fraud. Let's load the dataset and perform EAD."
   ]
  },
  {
   "cell_type": "code",
   "execution_count": 133,
   "id": "a5fd21b2",
   "metadata": {},
   "outputs": [
    {
     "data": {
      "application/vnd.microsoft.datawrangler.viewer.v0+json": {
       "columns": [
        {
         "name": "index",
         "rawType": "int64",
         "type": "integer"
        },
        {
         "name": "Time",
         "rawType": "float64",
         "type": "float"
        },
        {
         "name": "V1",
         "rawType": "float64",
         "type": "float"
        },
        {
         "name": "V2",
         "rawType": "float64",
         "type": "float"
        },
        {
         "name": "V3",
         "rawType": "float64",
         "type": "float"
        },
        {
         "name": "V4",
         "rawType": "float64",
         "type": "float"
        },
        {
         "name": "V5",
         "rawType": "float64",
         "type": "float"
        },
        {
         "name": "V6",
         "rawType": "float64",
         "type": "float"
        },
        {
         "name": "V7",
         "rawType": "float64",
         "type": "float"
        },
        {
         "name": "V8",
         "rawType": "float64",
         "type": "float"
        },
        {
         "name": "V9",
         "rawType": "float64",
         "type": "float"
        },
        {
         "name": "V10",
         "rawType": "float64",
         "type": "float"
        },
        {
         "name": "V11",
         "rawType": "float64",
         "type": "float"
        },
        {
         "name": "V12",
         "rawType": "float64",
         "type": "float"
        },
        {
         "name": "V13",
         "rawType": "float64",
         "type": "float"
        },
        {
         "name": "V14",
         "rawType": "float64",
         "type": "float"
        },
        {
         "name": "V15",
         "rawType": "float64",
         "type": "float"
        },
        {
         "name": "V16",
         "rawType": "float64",
         "type": "float"
        },
        {
         "name": "V17",
         "rawType": "float64",
         "type": "float"
        },
        {
         "name": "V18",
         "rawType": "float64",
         "type": "float"
        },
        {
         "name": "V19",
         "rawType": "float64",
         "type": "float"
        },
        {
         "name": "V20",
         "rawType": "float64",
         "type": "float"
        },
        {
         "name": "V21",
         "rawType": "float64",
         "type": "float"
        },
        {
         "name": "V22",
         "rawType": "float64",
         "type": "float"
        },
        {
         "name": "V23",
         "rawType": "float64",
         "type": "float"
        },
        {
         "name": "V24",
         "rawType": "float64",
         "type": "float"
        },
        {
         "name": "V25",
         "rawType": "float64",
         "type": "float"
        },
        {
         "name": "V26",
         "rawType": "float64",
         "type": "float"
        },
        {
         "name": "V27",
         "rawType": "float64",
         "type": "float"
        },
        {
         "name": "V28",
         "rawType": "float64",
         "type": "float"
        },
        {
         "name": "Amount",
         "rawType": "float64",
         "type": "float"
        },
        {
         "name": "Class",
         "rawType": "int64",
         "type": "integer"
        }
       ],
       "ref": "cca65628-b86e-46b6-8867-6128959c6e8b",
       "rows": [
        [
         "0",
         "0.0",
         "-1.3598071336738",
         "-0.0727811733098497",
         "2.53634673796914",
         "1.37815522427443",
         "-0.338320769942518",
         "0.462387777762292",
         "0.239598554061257",
         "0.0986979012610507",
         "0.363786969611213",
         "0.0907941719789316",
         "-0.551599533260813",
         "-0.617800855762348",
         "-0.991389847235408",
         "-0.311169353699879",
         "1.46817697209427",
         "-0.470400525259478",
         "0.207971241929242",
         "0.0257905801985591",
         "0.403992960255733",
         "0.251412098239705",
         "-0.018306777944153",
         "0.277837575558899",
         "-0.110473910188767",
         "0.0669280749146731",
         "0.128539358273528",
         "-0.189114843888824",
         "0.133558376740387",
         "-0.0210530534538215",
         "149.62",
         "0"
        ],
        [
         "1",
         "0.0",
         "1.19185711131486",
         "0.26615071205963",
         "0.16648011335321",
         "0.448154078460911",
         "0.0600176492822243",
         "-0.0823608088155687",
         "-0.0788029833323113",
         "0.0851016549148104",
         "-0.255425128109186",
         "-0.166974414004614",
         "1.61272666105479",
         "1.06523531137287",
         "0.48909501589608",
         "-0.143772296441519",
         "0.635558093258208",
         "0.463917041022171",
         "-0.114804663102346",
         "-0.183361270123994",
         "-0.145783041325259",
         "-0.0690831352230203",
         "-0.225775248033138",
         "-0.638671952771851",
         "0.101288021253234",
         "-0.339846475529127",
         "0.167170404418143",
         "0.125894532368176",
         "-0.0089830991432281",
         "0.0147241691924927",
         "2.69",
         "0"
        ],
        [
         "2",
         "1.0",
         "-1.35835406159823",
         "-1.34016307473609",
         "1.77320934263119",
         "0.379779593034328",
         "-0.503198133318193",
         "1.80049938079263",
         "0.791460956450422",
         "0.247675786588991",
         "-1.51465432260583",
         "0.207642865216696",
         "0.624501459424895",
         "0.066083685268831",
         "0.717292731410831",
         "-0.165945922763554",
         "2.34586494901581",
         "-2.89008319444231",
         "1.10996937869599",
         "-0.121359313195888",
         "-2.26185709530414",
         "0.524979725224404",
         "0.247998153469754",
         "0.771679401917229",
         "0.909412262347719",
         "-0.689280956490685",
         "-0.327641833735251",
         "-0.139096571514147",
         "-0.0553527940384261",
         "-0.0597518405929204",
         "378.66",
         "0"
        ],
        [
         "3",
         "1.0",
         "-0.966271711572087",
         "-0.185226008082898",
         "1.79299333957872",
         "-0.863291275036453",
         "-0.0103088796030823",
         "1.24720316752486",
         "0.23760893977178",
         "0.377435874652262",
         "-1.38702406270197",
         "-0.0549519224713749",
         "-0.226487263835401",
         "0.178228225877303",
         "0.507756869957169",
         "-0.28792374549456",
         "-0.631418117709045",
         "-1.0596472454325",
         "-0.684092786345479",
         "1.96577500349538",
         "-1.2326219700892",
         "-0.208037781160366",
         "-0.108300452035545",
         "0.0052735967825345",
         "-0.190320518742841",
         "-1.17557533186321",
         "0.647376034602038",
         "-0.221928844458407",
         "0.0627228487293033",
         "0.0614576285006353",
         "123.5",
         "0"
        ],
        [
         "4",
         "2.0",
         "-1.15823309349523",
         "0.877736754848451",
         "1.548717846511",
         "0.403033933955121",
         "-0.407193377311653",
         "0.0959214624684256",
         "0.592940745385545",
         "-0.270532677192282",
         "0.817739308235294",
         "0.753074431976354",
         "-0.822842877946363",
         "0.53819555014995",
         "1.3458515932154",
         "-1.11966983471731",
         "0.175121130008994",
         "-0.451449182813529",
         "-0.237033239362776",
         "-0.0381947870352842",
         "0.803486924960175",
         "0.408542360392758",
         "-0.0094306971323291",
         "0.79827849458971",
         "-0.137458079619063",
         "0.141266983824769",
         "-0.206009587619756",
         "0.502292224181569",
         "0.219422229513348",
         "0.215153147499206",
         "69.99",
         "0"
        ]
       ],
       "shape": {
        "columns": 31,
        "rows": 5
       }
      },
      "text/html": [
       "<div>\n",
       "<style scoped>\n",
       "    .dataframe tbody tr th:only-of-type {\n",
       "        vertical-align: middle;\n",
       "    }\n",
       "\n",
       "    .dataframe tbody tr th {\n",
       "        vertical-align: top;\n",
       "    }\n",
       "\n",
       "    .dataframe thead th {\n",
       "        text-align: right;\n",
       "    }\n",
       "</style>\n",
       "<table border=\"1\" class=\"dataframe\">\n",
       "  <thead>\n",
       "    <tr style=\"text-align: right;\">\n",
       "      <th></th>\n",
       "      <th>Time</th>\n",
       "      <th>V1</th>\n",
       "      <th>V2</th>\n",
       "      <th>V3</th>\n",
       "      <th>V4</th>\n",
       "      <th>V5</th>\n",
       "      <th>V6</th>\n",
       "      <th>V7</th>\n",
       "      <th>V8</th>\n",
       "      <th>V9</th>\n",
       "      <th>...</th>\n",
       "      <th>V21</th>\n",
       "      <th>V22</th>\n",
       "      <th>V23</th>\n",
       "      <th>V24</th>\n",
       "      <th>V25</th>\n",
       "      <th>V26</th>\n",
       "      <th>V27</th>\n",
       "      <th>V28</th>\n",
       "      <th>Amount</th>\n",
       "      <th>Class</th>\n",
       "    </tr>\n",
       "  </thead>\n",
       "  <tbody>\n",
       "    <tr>\n",
       "      <th>0</th>\n",
       "      <td>0.0</td>\n",
       "      <td>-1.359807</td>\n",
       "      <td>-0.072781</td>\n",
       "      <td>2.536347</td>\n",
       "      <td>1.378155</td>\n",
       "      <td>-0.338321</td>\n",
       "      <td>0.462388</td>\n",
       "      <td>0.239599</td>\n",
       "      <td>0.098698</td>\n",
       "      <td>0.363787</td>\n",
       "      <td>...</td>\n",
       "      <td>-0.018307</td>\n",
       "      <td>0.277838</td>\n",
       "      <td>-0.110474</td>\n",
       "      <td>0.066928</td>\n",
       "      <td>0.128539</td>\n",
       "      <td>-0.189115</td>\n",
       "      <td>0.133558</td>\n",
       "      <td>-0.021053</td>\n",
       "      <td>149.62</td>\n",
       "      <td>0</td>\n",
       "    </tr>\n",
       "    <tr>\n",
       "      <th>1</th>\n",
       "      <td>0.0</td>\n",
       "      <td>1.191857</td>\n",
       "      <td>0.266151</td>\n",
       "      <td>0.166480</td>\n",
       "      <td>0.448154</td>\n",
       "      <td>0.060018</td>\n",
       "      <td>-0.082361</td>\n",
       "      <td>-0.078803</td>\n",
       "      <td>0.085102</td>\n",
       "      <td>-0.255425</td>\n",
       "      <td>...</td>\n",
       "      <td>-0.225775</td>\n",
       "      <td>-0.638672</td>\n",
       "      <td>0.101288</td>\n",
       "      <td>-0.339846</td>\n",
       "      <td>0.167170</td>\n",
       "      <td>0.125895</td>\n",
       "      <td>-0.008983</td>\n",
       "      <td>0.014724</td>\n",
       "      <td>2.69</td>\n",
       "      <td>0</td>\n",
       "    </tr>\n",
       "    <tr>\n",
       "      <th>2</th>\n",
       "      <td>1.0</td>\n",
       "      <td>-1.358354</td>\n",
       "      <td>-1.340163</td>\n",
       "      <td>1.773209</td>\n",
       "      <td>0.379780</td>\n",
       "      <td>-0.503198</td>\n",
       "      <td>1.800499</td>\n",
       "      <td>0.791461</td>\n",
       "      <td>0.247676</td>\n",
       "      <td>-1.514654</td>\n",
       "      <td>...</td>\n",
       "      <td>0.247998</td>\n",
       "      <td>0.771679</td>\n",
       "      <td>0.909412</td>\n",
       "      <td>-0.689281</td>\n",
       "      <td>-0.327642</td>\n",
       "      <td>-0.139097</td>\n",
       "      <td>-0.055353</td>\n",
       "      <td>-0.059752</td>\n",
       "      <td>378.66</td>\n",
       "      <td>0</td>\n",
       "    </tr>\n",
       "    <tr>\n",
       "      <th>3</th>\n",
       "      <td>1.0</td>\n",
       "      <td>-0.966272</td>\n",
       "      <td>-0.185226</td>\n",
       "      <td>1.792993</td>\n",
       "      <td>-0.863291</td>\n",
       "      <td>-0.010309</td>\n",
       "      <td>1.247203</td>\n",
       "      <td>0.237609</td>\n",
       "      <td>0.377436</td>\n",
       "      <td>-1.387024</td>\n",
       "      <td>...</td>\n",
       "      <td>-0.108300</td>\n",
       "      <td>0.005274</td>\n",
       "      <td>-0.190321</td>\n",
       "      <td>-1.175575</td>\n",
       "      <td>0.647376</td>\n",
       "      <td>-0.221929</td>\n",
       "      <td>0.062723</td>\n",
       "      <td>0.061458</td>\n",
       "      <td>123.50</td>\n",
       "      <td>0</td>\n",
       "    </tr>\n",
       "    <tr>\n",
       "      <th>4</th>\n",
       "      <td>2.0</td>\n",
       "      <td>-1.158233</td>\n",
       "      <td>0.877737</td>\n",
       "      <td>1.548718</td>\n",
       "      <td>0.403034</td>\n",
       "      <td>-0.407193</td>\n",
       "      <td>0.095921</td>\n",
       "      <td>0.592941</td>\n",
       "      <td>-0.270533</td>\n",
       "      <td>0.817739</td>\n",
       "      <td>...</td>\n",
       "      <td>-0.009431</td>\n",
       "      <td>0.798278</td>\n",
       "      <td>-0.137458</td>\n",
       "      <td>0.141267</td>\n",
       "      <td>-0.206010</td>\n",
       "      <td>0.502292</td>\n",
       "      <td>0.219422</td>\n",
       "      <td>0.215153</td>\n",
       "      <td>69.99</td>\n",
       "      <td>0</td>\n",
       "    </tr>\n",
       "  </tbody>\n",
       "</table>\n",
       "<p>5 rows × 31 columns</p>\n",
       "</div>"
      ],
      "text/plain": [
       "   Time        V1        V2        V3        V4        V5        V6        V7  \\\n",
       "0   0.0 -1.359807 -0.072781  2.536347  1.378155 -0.338321  0.462388  0.239599   \n",
       "1   0.0  1.191857  0.266151  0.166480  0.448154  0.060018 -0.082361 -0.078803   \n",
       "2   1.0 -1.358354 -1.340163  1.773209  0.379780 -0.503198  1.800499  0.791461   \n",
       "3   1.0 -0.966272 -0.185226  1.792993 -0.863291 -0.010309  1.247203  0.237609   \n",
       "4   2.0 -1.158233  0.877737  1.548718  0.403034 -0.407193  0.095921  0.592941   \n",
       "\n",
       "         V8        V9  ...       V21       V22       V23       V24       V25  \\\n",
       "0  0.098698  0.363787  ... -0.018307  0.277838 -0.110474  0.066928  0.128539   \n",
       "1  0.085102 -0.255425  ... -0.225775 -0.638672  0.101288 -0.339846  0.167170   \n",
       "2  0.247676 -1.514654  ...  0.247998  0.771679  0.909412 -0.689281 -0.327642   \n",
       "3  0.377436 -1.387024  ... -0.108300  0.005274 -0.190321 -1.175575  0.647376   \n",
       "4 -0.270533  0.817739  ... -0.009431  0.798278 -0.137458  0.141267 -0.206010   \n",
       "\n",
       "        V26       V27       V28  Amount  Class  \n",
       "0 -0.189115  0.133558 -0.021053  149.62      0  \n",
       "1  0.125895 -0.008983  0.014724    2.69      0  \n",
       "2 -0.139097 -0.055353 -0.059752  378.66      0  \n",
       "3 -0.221929  0.062723  0.061458  123.50      0  \n",
       "4  0.502292  0.219422  0.215153   69.99      0  \n",
       "\n",
       "[5 rows x 31 columns]"
      ]
     },
     "execution_count": 133,
     "metadata": {},
     "output_type": "execute_result"
    }
   ],
   "source": [
    "dataset = pd.read_csv(\"./data/creditcard.csv\")\n",
    "dataset.head()"
   ]
  },
  {
   "cell_type": "markdown",
   "id": "635ab28e",
   "metadata": {},
   "source": [
    "Let's check for any missing values and confirm the class imbalance as mentioned on the desciption of the dataset."
   ]
  },
  {
   "cell_type": "code",
   "execution_count": 134,
   "id": "443d0720",
   "metadata": {},
   "outputs": [
    {
     "name": "stdout",
     "output_type": "stream",
     "text": [
      "No missing values found in the dataset.\n",
      "Class distribution:\n",
      " Class\n",
      "0    284315\n",
      "1       492\n",
      "Name: count, dtype: int64\n"
     ]
    },
    {
     "data": {
      "image/png": "[encoded data removed]",
      "text/plain": [
       "<Figure size 800x500 with 1 Axes>"
      ]
     },
     "metadata": {},
     "output_type": "display_data"
    }
   ],
   "source": [
    "# Check for missing values\n",
    "if dataset.isnull().values.any():\n",
    "    print(\"Dataset contains missing values. Please handle them before proceeding.\")\n",
    "else:\n",
    "    print(\"No missing values found in the dataset.\")\n",
    "# Check for class imbalance\n",
    "print(\"Class distribution:\\n\", dataset['Class'].value_counts())\n",
    "\n",
    "# Plotting the class distribution\n",
    "plt.figure(figsize=(8, 5))\n",
    "dataset['Class'].value_counts().plot(kind='bar', color=['blue', 'orange'])\n",
    "plt.title('Class Distribution')\n",
    "plt.xlabel('Class')\n",
    "plt.ylabel('Frequency')\n",
    "plt.xticks(ticks=[0, 1], labels=['Normal', 'Fraud'], rotation=0)\n",
    "plt.show()"
   ]
  },
  {
   "cell_type": "markdown",
   "id": "02278d68",
   "metadata": {},
   "source": [
    "The feature we are instersted is the 'Amount'. Let's have a look on the statistical information of this feature."
   ]
  },
  {
   "cell_type": "code",
   "execution_count": 135,
   "id": "db5f374b",
   "metadata": {},
   "outputs": [
    {
     "name": "stdout",
     "output_type": "stream",
     "text": [
      "Non-Fraud (Class=0) Amount Statistics:\n",
      "count    284315.000000\n",
      "mean         88.291022\n",
      "std         250.105092\n",
      "min           0.000000\n",
      "25%           5.650000\n",
      "50%          22.000000\n",
      "75%          77.050000\n",
      "max       25691.160000\n",
      "Name: Amount, dtype: float64\n",
      "\n",
      "Fraud (Class=1) Amount Statistics:\n",
      "count     492.000000\n",
      "mean      122.211321\n",
      "std       256.683288\n",
      "min         0.000000\n",
      "25%         1.000000\n",
      "50%         9.250000\n",
      "75%       105.890000\n",
      "max      2125.870000\n",
      "Name: Amount, dtype: float64\n"
     ]
    }
   ],
   "source": [
    "print(\"Non-Fraud (Class=0) Amount Statistics:\")\n",
    "print(dataset[dataset['Class'] == 0]['Amount'].describe())\n",
    "\n",
    "print(\"\\nFraud (Class=1) Amount Statistics:\")\n",
    "print(dataset[dataset['Class'] == 1]['Amount'].describe())"
   ]
  },
  {
   "cell_type": "markdown",
   "id": "2e3c1f21",
   "metadata": {},
   "source": [
    "Now that we have examined the structure of the dataset, it is time to prepare it for use with machine learning models. First, we will split the dataset and then address the class imbalance issue.\n"
   ]
  },
  {
   "cell_type": "code",
   "execution_count": 136,
   "id": "565fee65",
   "metadata": {},
   "outputs": [],
   "source": [
    "y = dataset['Class']\n",
    "X = dataset.drop(['Class'], axis=1)\n",
    "# Splitting the dataset into training and testing sets\n",
    "X_train, X_test, y_train, y_test = train_test_split(X, y, test_size=0.3, random_state=42, stratify=y)\n",
    "# Feature scaling\n",
    "scaler = StandardScaler()\n",
    "X_train = scaler.fit_transform(X_train)\n",
    "X_test = scaler.transform(X_test)\n",
    "#  Handling class imbalance using SMOTE\n",
    "smote = SMOTE(random_state=42)\n",
    "X_train_res, y_train_res = smote.fit_resample(X_train, y_train)\n"
   ]
  },
  {
   "cell_type": "markdown",
   "id": "f05ed480",
   "metadata": {},
   "source": [
    "Let's verify that SMOTE has successfully balanced the class distribution, you can compare the class counts before and after applying SMOTE. The desired result is a equal samples. "
   ]
  },
  {
   "cell_type": "code",
   "execution_count": 137,
   "id": "a5bc22ec",
   "metadata": {},
   "outputs": [
    {
     "name": "stdout",
     "output_type": "stream",
     "text": [
      "Before SMOTE:\n",
      "Class\n",
      "0    199020\n",
      "1       344\n",
      "Name: count, dtype: int64\n",
      "\n",
      "After SMOTE:\n",
      "Class\n",
      "0    199020\n",
      "1    199020\n",
      "Name: count, dtype: int64\n"
     ]
    }
   ],
   "source": [
    "# Original class distribution\n",
    "print(\"Before SMOTE:\")\n",
    "print(pd.Series(y_train).value_counts())\n",
    "\n",
    "# Class distribution after SMOTE\n",
    "print(\"\\nAfter SMOTE:\")\n",
    "print(pd.Series(y_train_res).value_counts())"
   ]
  },
  {
   "cell_type": "markdown",
   "id": "057f66a4",
   "metadata": {},
   "source": [
    "### Step 2. Train the model\n",
    "Now that we have our datasert prepared we can fit our models. We are going to compare three models and avaluate which one permed better on the dataset. The models to be acalued are:\n",
    "- Logistic Regression\n",
    "- Random Forest\n",
    "- Suppot Vector Machine (SVM)\n",
    "\n",
    "##### 1. Logistic Regression \n",
    "Logistic Regression, is a *Supervised Machine Learning Algortithm* used for classification. It estimate the probability that a data point belongs to a cetain class, using a sigmoid function to compress\n",
    "the output of a linear equation into a value 0 and 1.\n",
    "$$\n",
    "P(y = 1 \\mid X) = \\frac{1}{1 + e^{-(\\beta_0 + \\beta_1 X_1 + \\beta_2 X_2 + \\cdots + \\beta_n X_n)}}\n",
    "$$\n",
    "\n",
    "Where:\n",
    "\n",
    "- \\( X_1, X_2, \\ldots, X_n \\) are the input features  \n",
    "- \\( \\beta_0 \\) is the intercept (bias term)  \n",
    "- \\( \\beta_1, \\beta_2, \\ldots, \\beta_n \\) are the model coefficients  \n",
    "- The output is a probability between 0 and 1\n",
    " \n",
    "##### 2. Random Forest\n",
    "Random forest is an ensemble learning algorithm ised for classification and regretion tasks. It creates multiples decison trees and combaines their output to improve prediction accurancy and control \n",
    "overfiting. For classification, it uses majority votes, following we have some highlights:\n",
    "- **Handles Missing Data**: It can work even if some data is missing so you don't  always need to fill in the gaps yourself.\n",
    "- **Shows Feature Importance**: It tells you which feature (columns) are most useful for making predictions which helps you understand you data better.\n",
    "- **Works Well with Big and Complex Data**: It can handle large dataset with many features without slowing down or losing accuracy.\n",
    "- **Used for Different Task**: You can use it for both classification like predicting types or labels and regression like predicting numbers or amounts.\n",
    "\n",
    "We are going to notice that Radon Forest is also computationally expensive. \n",
    "\n",
    "##### 3. Support Vector Machine \n",
    "Support Vector Machine (SVM) is a supervised learning algorithm used for classification (and also regression).It aims to find the optimal hyperplane that best separates data points of different classes.\n",
    "\n",
    "We are usining \"from sklearn.svm import LinearSVC\" which provides:\n",
    "- Finds a straight-line decision boundary (a hyperplane in higher dimensions)\n",
    "- Maximizes the margin — the distance between the hyperplane and the nearest data points from each class (called support vectors)\n",
    "- Supports soft margins to allow some misclassification when data isn't perfectly linearly separable (controlled by the C parameter)\n"
   ]
  },
  {
   "cell_type": "code",
   "execution_count": 138,
   "id": "bc583ba8",
   "metadata": {},
   "outputs": [],
   "source": [
    "# define the models\n",
    "models = {\n",
    "    'Logistic Regression': LogisticRegression(max_iter=1000),\n",
    "    'Random Forest': RandomForestClassifier(n_estimators=100, n_jobs=-1),\n",
    "    'Support Vector Machine': LinearSVC(max_iter=5000, class_weight='balanced')  \n",
    "}"
   ]
  },
  {
   "cell_type": "code",
   "execution_count": 139,
   "id": "e033e420",
   "metadata": {},
   "outputs": [
    {
     "name": "stdout",
     "output_type": "stream",
     "text": [
      "Model: Logistic Regression\n",
      "Training time for Logistic Regression: 2.55 seconds\n",
      "\n",
      "Model: Logistic Regression\n",
      "Accuracy: 0.9777278419531149\n",
      "Confusion Matrix:\n",
      " [[83410  1885]\n",
      " [   18   130]]\n",
      "Classification Report:\n",
      "               precision    recall  f1-score   support\n",
      "\n",
      "           0       1.00      0.98      0.99     85295\n",
      "           1       0.06      0.88      0.12       148\n",
      "\n",
      "    accuracy                           0.98     85443\n",
      "   macro avg       0.53      0.93      0.55     85443\n",
      "weighted avg       1.00      0.98      0.99     85443\n",
      "\n",
      "Precision: 0.06451612903225806\n",
      "Recall: 0.8783783783783784\n",
      "F1 Score: 0.12020342117429496\n",
      "\n",
      "==================================================\n",
      "\n",
      "Model: Random Forest\n",
      "Training time for Random Forest: 180.57 seconds\n",
      "\n",
      "Model: Random Forest\n",
      "Accuracy: 0.9993914071369217\n",
      "Confusion Matrix:\n",
      " [[85277    18]\n",
      " [   34   114]]\n",
      "Classification Report:\n",
      "               precision    recall  f1-score   support\n",
      "\n",
      "           0       1.00      1.00      1.00     85295\n",
      "           1       0.86      0.77      0.81       148\n",
      "\n",
      "    accuracy                           1.00     85443\n",
      "   macro avg       0.93      0.89      0.91     85443\n",
      "weighted avg       1.00      1.00      1.00     85443\n",
      "\n",
      "Precision: 0.8636363636363636\n",
      "Recall: 0.7702702702702703\n",
      "F1 Score: 0.8142857142857143\n",
      "\n",
      "==================================================\n",
      "\n",
      "Model: Support Vector Machine\n",
      "Training time for Support Vector Machine: 2.38 seconds\n",
      "\n",
      "Model: Support Vector Machine\n",
      "Accuracy: 0.9807122877239798\n",
      "Confusion Matrix:\n",
      " [[83666  1629]\n",
      " [   19   129]]\n",
      "Classification Report:\n",
      "               precision    recall  f1-score   support\n",
      "\n",
      "           0       1.00      0.98      0.99     85295\n",
      "           1       0.07      0.87      0.14       148\n",
      "\n",
      "    accuracy                           0.98     85443\n",
      "   macro avg       0.54      0.93      0.56     85443\n",
      "weighted avg       1.00      0.98      0.99     85443\n",
      "\n",
      "Precision: 0.07337883959044368\n",
      "Recall: 0.8716216216216216\n",
      "F1 Score: 0.1353620146904512\n",
      "\n",
      "==================================================\n",
      "\n"
     ]
    }
   ],
   "source": [
    "# Running the models and evaluating their performance\n",
    "# this cell may take a while to run depending on the dataset size and model complexity\n",
    "\n",
    "# Initialize a list to store metrics\n",
    "metrics = []\n",
    "\n",
    "for model_name, model in models.items():\n",
    "    print(f\"Model: {model_name}\")\n",
    "    start_time = time.time()\n",
    "    model.fit(X_train_res, y_train_res)\n",
    "    end_time = time.time()\n",
    "    training_time = round(time.time() - start_time, 2)\n",
    "    print(f\"Training time for {model_name}: {training_time:.2f} seconds\\n\")\n",
    "    \n",
    "    # Predict and evaluate\n",
    "    y_pred = model.predict(X_test)\n",
    "    \n",
    "    # save the metrics\n",
    "    model_metrics  = {\n",
    "        'model_name': model_name,\n",
    "        'training_time': training_time,\n",
    "        'accuracy': accuracy_score(y_test, y_pred),\n",
    "        'precision': precision_score(y_test, y_pred),\n",
    "        'recall': recall_score(y_test, y_pred),\n",
    "        'f1-score': f1_score(y_test, y_pred),\n",
    "        'confusion_matrix': confusion_matrix(y_test, y_pred),\n",
    "    }\n",
    "\n",
    "    # Append to list\n",
    "    metrics.append(model_metrics)\n",
    "\n",
    "    # Evaluate the model\n",
    "    print(f\"Model: {model_name}\")\n",
    "    print(\"Accuracy:\", accuracy_score(y_test, y_pred))\n",
    "    print(\"Confusion Matrix:\\n\", confusion_matrix(y_test, y_pred))\n",
    "    print(\"Classification Report:\\n\", classification_report(y_test, y_pred))\n",
    "    print(\"Precision:\", precision_score(y_test, y_pred))\n",
    "    print(\"Recall:\", recall_score(y_test, y_pred))\n",
    "    print(\"F1 Score:\", f1_score(y_test, y_pred))\n",
    "    print(\"\\n\" + \"=\"*50 + \"\\n\")"
   ]
  },
  {
   "cell_type": "markdown",
   "id": "f5fb835a",
   "metadata": {},
   "source": [
    "#### Step 3. Evaluate the rersults\n",
    "Is clear that Random Forest provides better results of compared with the other model. Let's analyze the results report and clarify the meaning of the metrics. \n",
    "\n",
    "Starting for the metric 'accuracy'. Let's have a plot with the accuracy of each model."
   ]
  },
  {
   "cell_type": "code",
   "execution_count": 140,
   "id": "e10fd235",
   "metadata": {},
   "outputs": [
    {
     "data": {
      "image/png": "[encoded data removed]",
      "text/plain": [
       "<Figure size 800x500 with 1 Axes>"
      ]
     },
     "metadata": {},
     "output_type": "display_data"
    }
   ],
   "source": [
    "# Extract labels and accuracies\n",
    "labels = [m['model_name'] for m in metrics]\n",
    "accuracy = [m['accuracy'] for m in metrics]\n",
    "\n",
    "# Create bar plot\n",
    "plt.figure(figsize=(8, 5))\n",
    "plt.bar(labels, accuracy, color='skyblue')\n",
    "plt.ylabel('Accuracy')\n",
    "plt.title('Model Accuracy Comparison')\n",
    "plt.ylim(0.95, 1.0)  # Zoom in for better comparison (optional)\n",
    "plt.grid(axis='y', linestyle='--', alpha=0.7)\n",
    "plt.tight_layout()\n",
    "plt.show()"
   ]
  },
  {
   "cell_type": "markdown",
   "id": "0308ccaa",
   "metadata": {},
   "source": [
    "The plot shows that Random Forest achieves higher accuracy than the other two models. \n",
    "**Accuracy** is metric we use to evaluate the perfomancy of a classification model. It provides the percentege of correct predictions made by the model.\n",
    "\n",
    "$$\n",
    "\\text{Accuracy} = \\frac{\\text{Number of Correct Predictions}}{\\text{Total Number of Predictions}} = \\frac{TP + TN}{TP + TN + FP + FN}\n",
    "$$\n",
    "\n",
    "Where:\n",
    "\n",
    "    TP: True Positives (correctly predicted positives)\n",
    "\n",
    "    TN: True Negatives (correctly predicted negatives)\n",
    "\n",
    "    FP: False Positives (incorrectly predicted as positive)\n",
    "\n",
    "    FN: False Negatives (incorrectly predicted as negative)\n",
    "\n",
    "We still cannot ensure that Random Forest is the best option among our models. Our dataset is an imbalanced model, where the class 1 (fraud) represents less than 1% if the model predicts the class 0 (non-fraud) the model will also have 99% accurancy. Let's keep analysing the others metrics."
   ]
  },
  {
   "cell_type": "code",
   "execution_count": 114,
   "id": "fb8e00bf",
   "metadata": {},
   "outputs": [
    {
     "name": "stdout",
     "output_type": "stream",
     "text": [
      "\n",
      "🔍 Confusion Matrix for Each Model:\n",
      "\n",
      "                        True Negative  False Positive  False Negative  \\\n",
      "Logistic Regression             83410            1885              18   \n",
      "Random Forest                   85278              17              32   \n",
      "Support Vector Machine          83666            1629              19   \n",
      "\n",
      "                        True Positive  \n",
      "Logistic Regression               130  \n",
      "Random Forest                     116  \n",
      "Support Vector Machine            129  \n"
     ]
    }
   ],
   "source": [
    "# Extract model names and flattened confusion matrices\n",
    "labels = [m['model_name'] for m in metrics]\n",
    "confusion_values = [m['confusion_matrix'].ravel() for m in metrics]\n",
    "\n",
    "# Create a DataFrame\n",
    "conf_matrix_df = pd.DataFrame(confusion_values, index=labels, columns=['True Negative', 'False Positive', 'False Negative', 'True Positive'])\n",
    "\n",
    "# Print the result\n",
    "print(\"\\n🔍 Confusion Matrix for Each Model:\\n\")\n",
    "print(conf_matrix_df)\n"
   ]
  },
  {
   "cell_type": "markdown",
   "id": "56c78e3f",
   "metadata": {},
   "source": [
    "Following is the definistion of the metrics we just have printed:\n",
    " - **True Positive(TP)** : Fraud transaction correctly predicted as fraud, our goal is maximize this metric.\n",
    " - **False Negative(FN)** : Fraud trasection incorrect predicted as non-fraud.  In real life this is dangerous.\n",
    " - **False Positive(FP)** : Non-Fraud transaction incorrectly predicted as fraud.\n",
    " - **True Negative(TN)** : Non-fraud transaction correctly predicted as non-fraud.\n",
    "\n",
    "After the definition we can ensure that the **True Positive** and **False Negative** are the metrics that matters most in our application."
   ]
  },
  {
   "cell_type": "code",
   "execution_count": 142,
   "id": "3958c0a6",
   "metadata": {},
   "outputs": [
    {
     "data": {
      "image/png": "[encoded data removed]",
      "text/plain": [
       "<Figure size 1000x600 with 1 Axes>"
      ]
     },
     "metadata": {},
     "output_type": "display_data"
    }
   ],
   "source": [
    "# Extract the key values\n",
    "labels = conf_matrix_df.index\n",
    "tp = conf_matrix_df['True Positive']\n",
    "fn = conf_matrix_df['False Negative']\n",
    "\n",
    "# Plot\n",
    "x = range(len(labels))\n",
    "plt.figure(figsize=(10, 6))\n",
    "bar1 = plt.bar(x, tp, width=0.4, label='True Positive', color='seagreen', align='center')\n",
    "bar2 = plt.bar([i + 0.4 for i in x], fn, width=0.4, label='False Negative', color='salmon', align='center')\n",
    "\n",
    "plt.xticks([i + 0.2 for i in x], labels)\n",
    "plt.ylabel(\"Count\")\n",
    "plt.title(\"True Positives vs False Negatives by Model\")\n",
    "plt.legend()\n",
    "plt.grid(axis='y', linestyle='--', alpha=0.5)\n",
    "\n",
    "# Add value labels\n",
    "for bars in [bar1, bar2]:\n",
    "    for bar in bars:\n",
    "        yval = bar.get_height()\n",
    "        plt.text(bar.get_x() + bar.get_width()/2, yval + 1, f\"{int(yval)}\", ha='center', va='bottom')\n",
    "\n",
    "plt.tight_layout()\n",
    "plt.show()"
   ]
  },
  {
   "cell_type": "markdown",
   "id": "b0672be7",
   "metadata": {},
   "source": [
    "After analizing ther plot, if we take only those meassures to evaluate the models, Random Forest would be the worst model if compared with the other models. Let's sumaryze the information extracted from confusion matrix.\n",
    "- **Logistic Regression** : Worst Presicion, the model shows very high FP(1885), but in the other hand is the onthe that catches more frauds and it has fewrs FN.\n",
    "- **Random Forest** : Lower TP and more FN among our models\n",
    "- **SVM** : THe number are very close of Logistic Regression.\n",
    "\n",
    "Let's keep analysing the metrics from our report."
   ]
  },
  {
   "cell_type": "code",
   "execution_count": 143,
   "id": "8899feae",
   "metadata": {},
   "outputs": [
    {
     "data": {
      "image/png": "[encoded data removed]",
      "text/plain": [
       "<Figure size 800x500 with 1 Axes>"
      ]
     },
     "metadata": {},
     "output_type": "display_data"
    }
   ],
   "source": [
    "# Extract model names and precision scores\n",
    "labels = [m['model_name'] for m in metrics]\n",
    "precision_scores = [m['precision'] for m in metrics]\n",
    "\n",
    "# Create the plot\n",
    "plt.figure(figsize=(8, 5))\n",
    "plt.bar(labels, precision_scores, color='blue')\n",
    "plt.ylabel(\"Precision\")\n",
    "plt.title(\"Precision Comparison Across Models\")\n",
    "plt.ylim(0.01, 1.0)  # Zoom in for better comparison (optional)\n",
    "plt.grid(axis='y', linestyle='--', alpha=0.5)\n",
    "plt.tight_layout()\n",
    "plt.show()"
   ]
  },
  {
   "cell_type": "markdown",
   "id": "8eb9388f",
   "metadata": {},
   "source": [
    "Random Forest provides far better precision among our models. Precision is a meassure of how many of the predicted cases are actually correct. There is another very impotant metric, *recall* measures the ability of the model to find all the positive cases. We also can call *sensitivity*. Let's have a plot where we can visualize and compare the *recall* and the *precision* of the models."
   ]
  },
  {
   "cell_type": "code",
   "execution_count": 144,
   "id": "a284a30d",
   "metadata": {},
   "outputs": [
    {
     "data": {
      "image/png": "[encoded data removed]",
      "text/plain": [
       "<Figure size 1000x600 with 1 Axes>"
      ]
     },
     "metadata": {},
     "output_type": "display_data"
    }
   ],
   "source": [
    "# Extract data\n",
    "labels = [m['model_name'] for m in metrics]\n",
    "precisions = [m['precision'] for m in metrics]\n",
    "recalls = [m['recall'] for m in metrics]\n",
    "\n",
    "x = np.arange(len(labels))  # Label locations\n",
    "width = 0.35  # Bar width\n",
    "\n",
    "# Create the plot\n",
    "fig, ax = plt.subplots(figsize=(10, 6))\n",
    "bars1 = ax.bar(x - width/2, precisions, width, label='Precision', color='cornflowerblue')\n",
    "bars2 = ax.bar(x + width/2, recalls, width, label='Recall', color='lightcoral')\n",
    "\n",
    "# Add labels and title\n",
    "ax.set_ylabel('Score')\n",
    "ax.set_title('Precision vs. Recall by Model')\n",
    "ax.set_xticks(x)\n",
    "ax.set_xticklabels(labels)\n",
    "ax.set_ylim(0, 1.1)\n",
    "ax.legend()\n",
    "ax.grid(axis='y', linestyle='--', alpha=0.5)\n",
    "\n",
    "# Add values on top of bars\n",
    "for bars in [bars1, bars2]:\n",
    "    for bar in bars:\n",
    "        height = bar.get_height()\n",
    "        ax.text(bar.get_x() + bar.get_width()/2., height + 0.02,\n",
    "                f'{height:.2f}', ha='center', va='bottom', fontsize=9)\n",
    "\n",
    "plt.tight_layout()\n",
    "plt.show()"
   ]
  },
  {
   "cell_type": "markdown",
   "id": "77c43452",
   "metadata": {},
   "source": [
    "Now we can see difference between models, and notice that **Random Forest** is well balanced, it catchees most frouds but avoid false alarms. **Logistic Regression** is the model with better recall, which means it detects most frauds but it has also the lowest precision (high false positives).\n",
    "There is one more metric the is going to help us in our medel evaluatioin, this **F1-score**. \n",
    "\n",
    "$$\n",
    "\\text{F1-score} = 2 * \\frac{\\text{Precision x Recall}}{\\text{Preecision + Recall}}\n",
    "$$\n",
    "\n",
    "F1-score is the harmonic mean of Precision and Recall. It is high only when both *precision* and *recall* are high, with that been said we can conclud that it is a useful measure for imbalance classififcation task. Which is exactly our case on this project.\n"
   ]
  },
  {
   "cell_type": "code",
   "execution_count": 145,
   "id": "c147f678",
   "metadata": {},
   "outputs": [
    {
     "data": {
      "image/png": "[encoded data removed]",
      "text/plain": [
       "<Figure size 800x500 with 1 Axes>"
      ]
     },
     "metadata": {},
     "output_type": "display_data"
    }
   ],
   "source": [
    "# Extract labels and accuracies\n",
    "labels = [m['model_name'] for m in metrics]\n",
    "f1_scores = [m['f1-score'] for m in metrics]\n",
    "\n",
    "# Create bar plot\n",
    "plt.figure(figsize=(8, 5))\n",
    "plt.bar(labels, f1_scores, color='mediumslateblue')\n",
    "plt.ylabel('F1-score')\n",
    "plt.title('F1-score Comparison Across Models')\n",
    "plt.ylim(0.01, 1.0)  # Zoom in for better comparison (optional)\n",
    "plt.grid(axis='y', linestyle='--', alpha=0.7)\n",
    "plt.tight_layout()\n",
    "plt.show()"
   ]
  },
  {
   "cell_type": "markdown",
   "id": "0c7aedc7",
   "metadata": {},
   "source": [
    "#### Conclusion\n",
    "After compare the metrics fo each model we can now easly choose which model is more apropriate to our application based in our goal.\n",
    "If our goal is is catching fraud and tolarate false positives for further review, Logistic Regretion or SVM woud be a good option with hihgh recall, but low preciion. But if our goal is strong balanced model that catches most frauds but also avoid false alarms, **Random Forest**  is the best option.\n"
   ]
  }
 ],
 "metadata": {
  "kernelspec": {
   "display_name": "Python 3",
   "language": "python",
   "name": "python3"
  },
  "language_info": {
   "codemirror_mode": {
    "name": "ipython",
    "version": 3
   },
   "file_extension": ".py",
   "mimetype": "text/x-python",
   "name": "python",
   "nbconvert_exporter": "python",
   "pygments_lexer": "ipython3",
   "version": "3.13.0"
  }
 },
 "nbformat": 4,
 "nbformat_minor": 5
}
